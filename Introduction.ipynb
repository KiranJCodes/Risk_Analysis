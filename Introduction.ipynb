{
 "cells": [
  {
   "cell_type": "markdown",
   "id": "3ead7f4c-91a8-4b32-b74d-7b411bd1821e",
   "metadata": {},
   "source": [
    "## Introduction"
   ]
  },
  {
   "cell_type": "markdown",
   "id": "36fa57a3-4671-4edc-a522-7fd03e019d18",
   "metadata": {},
   "source": [
    "The dataset provided by LendingClub for research purposes is not only invaluable for its content but also notable for its substantial size. Comprising anonymized data from the organization's clientele, this dataset is expansive, containing a vast array of information pertinent to lending practices and risk assessment. With over 100,000 rows and 151 columns, it represents a rich repository of borrower profiles, loan characteristics, and credit outcomes. This scale offers researchers a robust foundation for analysis, allowing for comprehensive exploration of patterns and trends within the lending landscape. By harnessing the depth and breadth of this dataset, researchers can gain nuanced insights into borrower behavior, credit risk factors, and the efficacy of lending strategies. Thus, the sheer magnitude of this dataset underscores its significance as a resource for advancing our understanding of risk management and financial decision-making in the peer-to-peer lending domain."
   ]
  },
  {
   "cell_type": "markdown",
   "id": "0a129ee9-29eb-43ae-8c03-a3090fb0fe0c",
   "metadata": {},
   "source": [
    "## Link"
   ]
  },
  {
   "cell_type": "markdown",
   "id": "78365c7d-a352-492b-973b-9372e0bdf2fe",
   "metadata": {},
   "source": [
    "https://www.kaggle.com/datasets/wordsforthewise/lending-club/data"
   ]
  },
  {
   "cell_type": "markdown",
   "id": "b6825ff9-6902-4dd3-8c6b-3cedb74a4301",
   "metadata": {},
   "source": [
    "# Questions"
   ]
  },
  {
   "cell_type": "markdown",
   "id": "d6e7f687-add1-4eff-bfff-07d3e8b499aa",
   "metadata": {},
   "source": [
    "1. What are some common themes with loan defaulters. \n",
    "2. Will Geographical location have an impact \n",
    "3. Which ML model will be best suited for this ?\n",
    "4. What are some potential business decisions that we can take. "
   ]
  },
  {
   "cell_type": "markdown",
   "id": "313f9e0b-219d-4fbe-b915-2a176908a543",
   "metadata": {},
   "source": [
    "## Determining how to remove certain columns\n"
   ]
  },
  {
   "attachments": {},
   "cell_type": "markdown",
   "id": "8c9ea605-dd3b-434e-998a-82d17c747fb2",
   "metadata": {},
   "source": [
    "# Select Important columns based on Questions \n",
    "cols = [loan_amnt, term, int_rate, grade, home_ownership,\n",
    "loan_status,addr_state, application_type, fico_range_low, fico_range_high]\n",
    "\n",
    "These Columsn represent enough themes to analyse risk while keeping the dimensions less "
   ]
  },
  {
   "cell_type": "markdown",
   "id": "e1fb0a94-a42e-4960-a96c-e2cbf89a10fd",
   "metadata": {},
   "source": [
    "## to do list over the weekend\n",
    "1. Write themes in detail.\n",
    "2. Group by loan amounts\n",
    "3. Average loan amount for each grade\n",
    "4. Final Cleaning\n"
   ]
  },
  {
   "cell_type": "code",
   "execution_count": 2,
   "id": "9a3db3d8-417b-4ef3-8721-5c941c9acd1d",
   "metadata": {},
   "outputs": [],
   "source": [
    "# Proceed to add notes in Obsidean and clean some more\n"
   ]
  },
  {
   "cell_type": "code",
   "execution_count": null,
   "id": "59d2790a-0bc2-4d4e-8839-984c8fd8088c",
   "metadata": {},
   "outputs": [],
   "source": []
  }
 ],
 "metadata": {
  "kernelspec": {
   "display_name": "Python 3 (ipykernel)",
   "language": "python",
   "name": "python3"
  },
  "language_info": {
   "codemirror_mode": {
    "name": "ipython",
    "version": 3
   },
   "file_extension": ".py",
   "mimetype": "text/x-python",
   "name": "python",
   "nbconvert_exporter": "python",
   "pygments_lexer": "ipython3",
   "version": "3.11.7"
  }
 },
 "nbformat": 4,
 "nbformat_minor": 5
}
