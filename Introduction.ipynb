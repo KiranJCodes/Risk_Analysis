{
 "cells": [
  {
   "cell_type": "markdown",
   "id": "3ead7f4c-91a8-4b32-b74d-7b411bd1821e",
   "metadata": {},
   "source": [
    "## Introduction"
   ]
  },
  {
   "cell_type": "markdown",
   "id": "36fa57a3-4671-4edc-a522-7fd03e019d18",
   "metadata": {},
   "source": [
    "The dataset provided by LendingClub for research purposes is not only invaluable for its content but also notable for its substantial size. Comprising anonymized data from the organization's clientele, this dataset is expansive, containing a vast array of information pertinent to lending practices and risk assessment. With over 100,000 rows and 151 columns, it represents a rich repository of borrower profiles, loan characteristics, and credit outcomes. This scale offers researchers a robust foundation for analysis, allowing for comprehensive exploration of patterns and trends within the lending landscape. By harnessing the depth and breadth of this dataset, researchers can gain nuanced insights into borrower behavior, credit risk factors, and the efficacy of lending strategies. Thus, the sheer magnitude of this dataset underscores its significance as a resource for advancing our understanding of risk management and financial decision-making in the peer-to-peer lending domain."
   ]
  },
  {
   "cell_type": "markdown",
   "id": "b6825ff9-6902-4dd3-8c6b-3cedb74a4301",
   "metadata": {},
   "source": [
    "# Questions"
   ]
  },
  {
   "cell_type": "markdown",
   "id": "d6e7f687-add1-4eff-bfff-07d3e8b499aa",
   "metadata": {},
   "source": [
    "1. What are some common themes with loan defaulters. \n",
    "2. Will Geographical location have an impact \n",
    "3. Which ML model will be best suited for this ?\n",
    "4. What are some potential business decisions that we can take. "
   ]
  },
  {
   "cell_type": "code",
   "execution_count": null,
   "id": "8a37d340-9c03-43d7-bb67-4865abe16600",
   "metadata": {},
   "outputs": [],
   "source": []
  }
 ],
 "metadata": {
  "kernelspec": {
   "display_name": "Python 3 (ipykernel)",
   "language": "python",
   "name": "python3"
  },
  "language_info": {
   "codemirror_mode": {
    "name": "ipython",
    "version": 3
   },
   "file_extension": ".py",
   "mimetype": "text/x-python",
   "name": "python",
   "nbconvert_exporter": "python",
   "pygments_lexer": "ipython3",
   "version": "3.11.7"
  }
 },
 "nbformat": 4,
 "nbformat_minor": 5
}
