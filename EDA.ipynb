{
 "cells": [
  {
   "cell_type": "code",
   "execution_count": 2,
   "id": "d3068a24-39d4-432b-88f6-248d1caacf3f",
   "metadata": {},
   "outputs": [],
   "source": [
    "import pandas as pd\n",
    "import matplotlib.pyplot as plt"
   ]
  },
  {
   "cell_type": "code",
   "execution_count": 4,
   "id": "47e9dc6b-ffe6-4b04-9564-83d93a8be8af",
   "metadata": {},
   "outputs": [
    {
     "name": "stderr",
     "output_type": "stream",
     "text": [
      "C:\\Users\\DAYDREAMER\\AppData\\Local\\Temp\\ipykernel_18380\\1070546342.py:2: DtypeWarning: Columns (0) have mixed types. Specify dtype option on import or set low_memory=False.\n",
      "  sampled_df = pd.read_csv('random42.csv')\n"
     ]
    }
   ],
   "source": [
    "# Load the dataset\n",
    "sampled_df = pd.read_csv('random42.csv')\n"
   ]
  },
  {
   "cell_type": "code",
   "execution_count": 11,
   "id": "d9abdcaa-d918-4f08-8af8-52b3b7ae4b97",
   "metadata": {},
   "outputs": [],
   "source": [
    "cols = ['loan_amnt', 'term', 'int_rate', 'grade', 'home_ownership',\n",
    "'loan_status','addr_state', 'application_type', 'fico_range_low', 'fico_range_high']"
   ]
  },
  {
   "cell_type": "code",
   "execution_count": 12,
   "id": "389453c5-ff43-474e-b937-d13528416dcc",
   "metadata": {},
   "outputs": [],
   "source": [
    "Data = sampled_df[cols].copy()"
   ]
  },
  {
   "cell_type": "markdown",
   "id": "9e0e4efa-2692-4d56-8149-bd5945e1a9b3",
   "metadata": {},
   "source": [
    "## Data Cleaning\n",
    "1. Delete Unwanted cols\n",
    "2. change data types"
   ]
  },
  {
   "cell_type": "code",
   "execution_count": 13,
   "id": "8892fe94-64d7-483a-8852-e4fc018365f9",
   "metadata": {},
   "outputs": [
    {
     "data": {
      "text/plain": [
       "loan_amnt           float64\n",
       "term                 object\n",
       "int_rate            float64\n",
       "grade                object\n",
       "home_ownership       object\n",
       "loan_status          object\n",
       "addr_state           object\n",
       "application_type     object\n",
       "fico_range_low      float64\n",
       "fico_range_high     float64\n",
       "dtype: object"
      ]
     },
     "execution_count": 13,
     "metadata": {},
     "output_type": "execute_result"
    }
   ],
   "source": [
    "Data.dtypes"
   ]
  },
  {
   "cell_type": "code",
   "execution_count": null,
   "id": "1537bd6e-6700-4cf1-bd5f-708acdd1c2f2",
   "metadata": {},
   "outputs": [],
   "source": []
  }
 ],
 "metadata": {
  "kernelspec": {
   "display_name": "Python 3 (ipykernel)",
   "language": "python",
   "name": "python3"
  },
  "language_info": {
   "codemirror_mode": {
    "name": "ipython",
    "version": 3
   },
   "file_extension": ".py",
   "mimetype": "text/x-python",
   "name": "python",
   "nbconvert_exporter": "python",
   "pygments_lexer": "ipython3",
   "version": "3.11.7"
  }
 },
 "nbformat": 4,
 "nbformat_minor": 5
}
